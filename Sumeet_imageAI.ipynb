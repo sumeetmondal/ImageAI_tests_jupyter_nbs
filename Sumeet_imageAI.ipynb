{
  "nbformat": 4,
  "nbformat_minor": 0,
  "metadata": {
    "colab": {
      "name": "Sumeet_imageAI.ipynb",
      "provenance": [],
      "collapsed_sections": [],
      "include_colab_link": true
    },
    "kernelspec": {
      "name": "python3",
      "display_name": "Python 3"
    },
    "accelerator": "GPU"
  },
  "cells": [
    {
      "cell_type": "markdown",
      "metadata": {
        "id": "view-in-github",
        "colab_type": "text"
      },
      "source": [
        "<a href=\"https://colab.research.google.com/github/sumeetmondal/ImageAI_tests_jupyter_nbs/blob/master/Sumeet_imageAI.ipynb\" target=\"_parent\"><img src=\"https://colab.research.google.com/assets/colab-badge.svg\" alt=\"Open In Colab\"/></a>"
      ]
    },
    {
      "cell_type": "code",
      "metadata": {
        "id": "vgp2441vLqL5",
        "colab_type": "code",
        "colab": {}
      },
      "source": [
        "!pip3 install tensorflow\n",
        "!pip3 install opencv-python\n",
        "!pip3 install keras\n",
        "!pip3 install imageai --upgrade"
      ],
      "execution_count": 0,
      "outputs": []
    },
    {
      "cell_type": "code",
      "metadata": {
        "id": "eeok0iThMKDy",
        "colab_type": "code",
        "colab": {}
      },
      "source": [
        "from urllib.request import urlretrieve\n",
        "import os\n",
        "from zipfile import ZipFile\n",
        "\n",
        "def download(url, file):\n",
        "    if not os.path.isfile(file):\n",
        "        print(\"Download file... \" + file + \" ...\")\n",
        "        urlretrieve(url,file)\n",
        "        print(\"File downloaded\")\n",
        "\n",
        "def uncompress_file(dir):\n",
        "    if(os.path.isdir('data')):\n",
        "        print('Data extracted')\n",
        "    else:\n",
        "        with ZipFile(dir) as zipf:\n",
        "            zipf.extractall('data')"
      ],
      "execution_count": 0,
      "outputs": []
    },
    {
      "cell_type": "code",
      "metadata": {
        "id": "q3m6mmjoMd5W",
        "colab_type": "code",
        "colab": {}
      },
      "source": [
        "download(\"https://github.com/OlafenwaMoses/IdenProf/releases/download/v1.0/idenprof-jpg.zip\",\"idenprof-jpg.zip\")\n",
        "uncompress_file(\"idenprof-jpg.zip\")"
      ],
      "execution_count": 0,
      "outputs": []
    },
    {
      "cell_type": "code",
      "metadata": {
        "id": "pHaRBEi6QkQq",
        "colab_type": "code",
        "colab": {}
      },
      "source": [
        "cd data"
      ],
      "execution_count": 0,
      "outputs": []
    },
    {
      "cell_type": "code",
      "metadata": {
        "id": "2qkJ87w1Msxk",
        "colab_type": "code",
        "colab": {}
      },
      "source": [
        "file = open(\"Training.py\", \"w\") \n",
        "file.write(\"\"\"from imageai.Prediction.Custom import ModelTraining\n",
        "\n",
        "model_trainer = ModelTraining()\n",
        "model_trainer.setModelTypeAsResNet()\n",
        "model_trainer.setDataDirectory(\"idenprof\")\n",
        "model_trainer.trainModel(num_objects=10, num_experiments=200, enhance_data=True, batch_size=32, show_network_summary=True)\"\"\") \n",
        "file.close() "
      ],
      "execution_count": 0,
      "outputs": []
    },
    {
      "cell_type": "code",
      "metadata": {
        "id": "QWmASk2WQNvJ",
        "colab_type": "code",
        "colab": {
          "base_uri": "https://localhost:8080/",
          "height": 34
        },
        "outputId": "38a3b4a8-a1e9-4143-c030-58bb8f0f7064"
      },
      "source": [
        "!python Training.py"
      ],
      "execution_count": 0,
      "outputs": [
        {
          "output_type": "stream",
          "text": [
            " 87/281 [========>.....................] - ETA: 1:21 - loss: 1.2586 - acc: 0.5636"
          ],
          "name": "stdout"
        }
      ]
    }
  ]
}